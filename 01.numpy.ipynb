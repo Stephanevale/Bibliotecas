{
 "cells": [
  {
   "cell_type": "code",
   "execution_count": null,
   "id": "57e2a173-c71c-4dad-8f1f-b3ac64886967",
   "metadata": {},
   "outputs": [],
   "source": [
    "vet = []"
   ]
  },
  {
   "cell_type": "code",
   "execution_count": 1,
   "id": "1848ed7b-06cf-4e9b-bea4-ed2cf658ef6e",
   "metadata": {},
   "outputs": [],
   "source": [
    "vet = [1,2,3,4,5]"
   ]
  },
  {
   "cell_type": "code",
   "execution_count": 3,
   "id": "50b62010-4acd-45de-811c-fb2e4146c4b2",
   "metadata": {},
   "outputs": [
    {
     "name": "stdout",
     "output_type": "stream",
     "text": [
      "[1, 2, 3, 4, 5]\n"
     ]
    }
   ],
   "source": [
    "print(vet)"
   ]
  },
  {
   "cell_type": "code",
   "execution_count": 5,
   "id": "043cffc1-a3ac-44b8-a1a3-bc3f028fa56c",
   "metadata": {},
   "outputs": [
    {
     "name": "stdout",
     "output_type": "stream",
     "text": [
      "1\n",
      "2\n",
      "3\n",
      "4\n",
      "5\n"
     ]
    }
   ],
   "source": [
    "for i in vet:\n",
    "    print(i)"
   ]
  },
  {
   "cell_type": "code",
   "execution_count": 7,
   "id": "cc3468f2-b6a5-4ed0-a87b-90225e0e58f5",
   "metadata": {},
   "outputs": [
    {
     "name": "stdout",
     "output_type": "stream",
     "text": [
      "valor: 1\n",
      "valor: 2\n",
      "valor: 3\n",
      "valor: 4\n",
      "valor: 5\n"
     ]
    }
   ],
   "source": [
    "for i in vet:\n",
    "    print(f\"valor: {i}\")\n",
    "    "
   ]
  },
  {
   "cell_type": "code",
   "execution_count": 110,
   "id": "3e76765d-cbfc-4cb9-b569-7189b494f48e",
   "metadata": {},
   "outputs": [
    {
     "name": "stdout",
     "output_type": "stream",
     "text": [
      "[1, 4, 9, 16, 25, 36, 49, 64, 81, 100]\n",
      "soma do vetor1: 55\n",
      "soma do vetor2: 55\n",
      "Media: 5.5\n"
     ]
    }
   ],
   "source": [
    "vetor1 = [1,2,3,4,5,6,7,8,9,10]\n",
    "vetor2 = [1,2,3,4,5,6,7,8,9,10]\n",
    "\n",
    "somavetor1 = 0\n",
    "somavetor2 = 0\n",
    "elemento_vetor = [0] * len(vetor1)\n",
    "\n",
    "def mult(v1, v2):\n",
    "    resultado = []\n",
    "    for i in range(len(v1)):\n",
    "        resultado.append(v1[i] * v2[i])\n",
    "    return resultado\n",
    "\n",
    "elemento_vetor = mult(vetor1, vetor2)\n",
    "\n",
    "print(elemento_vetor)\n",
    "\n",
    "\n",
    "for i in vetor1:\n",
    "    somavetor1 += i\n",
    "    \n",
    "print((f\"soma do vetor1: {somavetor1}\"))\n",
    "\n",
    "for c in vetor2:\n",
    "    somavetor2 += c\n",
    "print((f\"soma do vetor2: {somavetor2}\"))\n",
    "media = (somavetor1 + somavetor2)/(len(vetor1) + len(vetor2))\n",
    "\n",
    "print(f\"Media: {media}\")"
   ]
  },
  {
   "cell_type": "code",
   "execution_count": 111,
   "id": "6341d652-0a15-40a8-a4c3-b6f1fef38392",
   "metadata": {},
   "outputs": [],
   "source": []
  },
  {
   "cell_type": "code",
   "execution_count": 155,
   "id": "394ba719-b84e-40e0-9cf3-fa6dab1031ef",
   "metadata": {},
   "outputs": [
    {
     "name": "stdout",
     "output_type": "stream",
     "text": [
      "[ 1  2  3  4  5  6  7  8  9 10]\n",
      "[ 2  4  6  8 10 12 14 16 18 20]\n"
     ]
    }
   ],
   "source": [
    "import numpy as np\n",
    "array = np.array(vetor1)\n",
    "\n",
    "print(array)\n",
    "resultado = (array * 2)\n",
    "print(resultado)"
   ]
  },
  {
   "cell_type": "code",
   "execution_count": 123,
   "id": "f50cdefe-c053-4c92-9957-8b701fb64556",
   "metadata": {},
   "outputs": [
    {
     "data": {
      "text/plain": [
       "dtype('int32')"
      ]
     },
     "execution_count": 123,
     "metadata": {},
     "output_type": "execute_result"
    }
   ],
   "source": [
    "array.shape #ver qual a dimensão da matriz\n",
    "array.dtype #defini o tipo de valor que uma variável pode armazenar"
   ]
  },
  {
   "cell_type": "code",
   "execution_count": 157,
   "id": "0662fad0-7b80-419d-bf92-9735c12b1665",
   "metadata": {},
   "outputs": [
    {
     "name": "stdout",
     "output_type": "stream",
     "text": [
      "soma 1°:55\n",
      "soma 2°:55\n",
      "Produto: [10 18 24 28 30 30 28 24 18 10]\n"
     ]
    }
   ],
   "source": [
    "a = np.array(vetor1)\n",
    "b = np.array(vetor2)\n",
    "\n",
    "print(f\"soma 1°:{sum(a)}\")\n",
    "print(f\"soma 2°:{sum(b)}\")\n",
    "print(f\"Produto: {a * b}\")"
   ]
  },
  {
   "cell_type": "code",
   "execution_count": 11,
   "id": "4b3324b7-2143-433a-8acd-98aa33dc5edb",
   "metadata": {},
   "outputs": [
    {
     "name": "stdout",
     "output_type": "stream",
     "text": [
      "Lista: 1.2279038429260254\n",
      "Array np: 0.016490697860717773\n",
      "Numpy é 74.46039296196163 x mais rápido\n"
     ]
    }
   ],
   "source": [
    "import numpy as np\n",
    "import time\n",
    "\n",
    "#com listas\n",
    "def benchmark_listas(n):\n",
    "    a = list(range(n))\n",
    "    b = list(range(n))\n",
    "    start = time.time()\n",
    "    c = [a[i] + b[i] for i in range(n)]\n",
    "    return time.time() - start\n",
    "\n",
    "def benchmark_np(n):\n",
    "    a = np.arange(n)\n",
    "    b = np.arange(n)\n",
    "    start = time.time()\n",
    "    c = a + b\n",
    "    return time.time() - start\n",
    "    \n",
    "tamanho = 10_000_000\n",
    "tempo_lista = benchmark_listas(tamanho)\n",
    "tempo_np = benchmark_np(tamanho)\n",
    "\n",
    "print(f\"Lista: {tempo_lista}\")\n",
    "print(f\"Array np: {tempo_np}\")\n",
    "print(f\"Numpy é {(tempo_lista / tempo_np)} x mais rápido\")\n",
    "\n",
    "import matplotlib.pyplot as plt\n",
    "\n",
    "tamanhos = [1_000, 10_000, 100_000, 1_000_000,10_000_000]\n",
    "tempo_lista = [benchmark_listas(n) for n in tamanhos]\n",
    "tempos_np = [benchmark_np(n) for n in tamanhos]"
   ]
  },
  {
   "cell_type": "code",
   "execution_count": 12,
   "id": "c856e93c-821f-4299-acab-05230a99b9ba",
   "metadata": {},
   "outputs": [
    {
     "data": {
      "image/png": "[encoded data removed]",
      "text/plain": [
       "<Figure size 640x480 with 1 Axes>"
      ]
     },
     "metadata": {},
     "output_type": "display_data"
    }
   ],
   "source": [
    "\n",
    "plt.plot(tamanhos, tempo_lista, label='Listas em Python',  marker='o')\n",
    "plt.plot(tamanhos, tempos_np, label='Arrays em Numpy',  marker='s')\n",
    "plt.xlabel('Tamanho do vetor')\n",
    "plt.ylabel('Tempo (s)')\n",
    "plt.title('Desempenho; listas vc numpy')\n",
    "plt.legend()\n",
    "plt.grid(True)\n",
    "plt.show()"
   ]
  },
  {
   "cell_type": "code",
   "execution_count": 88,
   "id": "7773c780-7140-47a2-83d7-c014f5444bbd",
   "metadata": {},
   "outputs": [
    {
     "name": "stdout",
     "output_type": "stream",
     "text": [
      "Maiores que 5: [False False False False  True  True  True]\n",
      "Igual a 2: [False  True False False False False False]\n",
      "Menor ou igual a 2: [ True  True False False False False False]\n"
     ]
    }
   ],
   "source": [
    "import numpy as np\n",
    "\n",
    "array = np.array([1,2,4,5,7,9,8])\n",
    "\n",
    "print(f\"Maiores que 5: {array > 5}\")\n",
    "print(f\"Igual a 2: {array == 2}\")\n",
    "print(f\"Menor ou igual a 2: {array <= 2}\")"
   ]
  },
  {
   "cell_type": "code",
   "execution_count": 17,
   "id": "69c4adb5-fd41-44b1-93e7-7c3e5beac5bd",
   "metadata": {},
   "outputs": [
    {
     "name": "stdout",
     "output_type": "stream",
     "text": [
      "Maior que 3 e menor que 7 [False False  True  True False False False]\n"
     ]
    }
   ],
   "source": [
    "print(f\"Maior que 3 e menor que 7 {(array > 3) & (array < 7)}\")"
   ]
  },
  {
   "cell_type": "code",
   "execution_count": 37,
   "id": "b379d5c8-8465-45cf-9cb1-acd0d345c39b",
   "metadata": {},
   "outputs": [
    {
     "name": "stdout",
     "output_type": "stream",
     "text": [
      "Maior que 3 e menor que 7 [4 5]\n",
      "Menor que 3 e maior que 7: [1 2 9 8]\n",
      "Diferentes de 7: [1 2 4 5 9 8]\n",
      "Todos os elementos são maiores que -2: True\n",
      "Algum elemento é 10: False\n"
     ]
    }
   ],
   "source": [
    "filtro = (array > 3) & (array < 7)\n",
    "print(f\"Maior que 3 e menor que 7 {array[filtro]}\")\n",
    "filtro = (array < 3) | (array > 7)\n",
    "print(f\"Menor que 3 e maior que 7: {array[filtro]}\")\n",
    "\n",
    "filtro = ~(array == 7)\n",
    "print(f\"Diferentes de 7: {array[filtro]}\")\n",
    "\n",
    "print(f\"Todos os elementos são maiores que -2: {np.all(array > -2)}\")\n",
    "\n",
    "print(f\"Algum elemento é 10: {np.any(array == 10)}\")"
   ]
  },
  {
   "cell_type": "code",
   "execution_count": 45,
   "id": "3c5d2a14-db45-480a-8994-41b1d2614621",
   "metadata": {},
   "outputs": [
    {
     "name": "stdout",
     "output_type": "stream",
     "text": [
      "[5 7 9]\n"
     ]
    }
   ],
   "source": [
    "print(array[3:6])"
   ]
  },
  {
   "cell_type": "code",
   "execution_count": 47,
   "id": "c593ed41-f91c-4ddb-995c-4e2b6ab4f0e6",
   "metadata": {},
   "outputs": [
    {
     "name": "stdout",
     "output_type": "stream",
     "text": [
      "[5 7 9 8]\n"
     ]
    }
   ],
   "source": [
    "print(array[3:])"
   ]
  },
  {
   "cell_type": "code",
   "execution_count": 49,
   "id": "7373b324-cecd-4a37-8d06-ecde3012908f",
   "metadata": {},
   "outputs": [
    {
     "name": "stdout",
     "output_type": "stream",
     "text": [
      "[1 2 4 5 7 9]\n"
     ]
    }
   ],
   "source": [
    "print(array[:-1])"
   ]
  },
  {
   "cell_type": "code",
   "execution_count": 53,
   "id": "821a5aaf-6d2f-431a-ae84-7594296e65c7",
   "metadata": {},
   "outputs": [
    {
     "name": "stdout",
     "output_type": "stream",
     "text": [
      "[1 2 4 5]\n"
     ]
    }
   ],
   "source": [
    "print(array[:4])"
   ]
  },
  {
   "cell_type": "code",
   "execution_count": 61,
   "id": "79337da8-f921-4eab-b1d3-2f5c152e3501",
   "metadata": {},
   "outputs": [
    {
     "name": "stdout",
     "output_type": "stream",
     "text": [
      "[1 2 4 5 7 9 8]\n"
     ]
    }
   ],
   "source": [
    "print(array[:len(array)])"
   ]
  },
  {
   "cell_type": "code",
   "execution_count": 96,
   "id": "6b694c99-8fdd-4430-a7b2-0ac17281e8dc",
   "metadata": {},
   "outputs": [
    {
     "name": "stdout",
     "output_type": "stream",
     "text": [
      "Array com 10 elementos somente com valores 5: [5 5 5 5 5 5 5 5 5 5]\n",
      "Array com 10 elementos somente com valores de 0 a 9: [0 1 2 3 4 5 6 7 8 9]\n",
      "Matriz 3x3 valores aleatórios entre 0 e 1: [[0.34918675 0.24262602 0.10680308]\n",
      " [0.28094889 0.72715332 0.12371284]\n",
      " [0.34034987 0.08020309 0.17728163]]\n",
      "Array de 5 elementos alternando entre True e False: [ True False  True False  True]\n"
     ]
    }
   ],
   "source": [
    "#Exercicios criação de Arrays\n",
    "import numpy as np\n",
    "\n",
    "array_somente_com_5 = np.array([5,5,5,5,5,5,5,5,5,5])\n",
    "array_com_9_elementos = np.array([0,1,2,3,4,5,6,7,8,9])\n",
    "matriz_aleatoria = np.random.rand (9).reshape((3, 3))\n",
    "array_true_false = np.array([True, False, True, False, True])\n",
    "\n",
    "\n",
    "print(f\"Array com 10 elementos somente com valores 5: {array_somente_com_5}\")\n",
    "print(f\"Array com 10 elementos somente com valores de 0 a 9: {array_com_9_elementos}\")\n",
    "print(f\"Matriz 3x3 valores aleatórios entre 0 e 1: {matriz_aleatoria}\")\n",
    "print(f\"Array de 5 elementos alternando entre True e False: {array_true_false}\")\n"
   ]
  },
  {
   "cell_type": "code",
   "execution_count": 122,
   "id": "023ee345-8da9-4f4c-8347-fff0ab6987cc",
   "metadata": {},
   "outputs": [
    {
     "name": "stdout",
     "output_type": "stream",
     "text": [
      "soma do vetor1: 154\n",
      "soma do vetor2: 26\n"
     ]
    }
   ],
   "source": [
    "#Operações Básicas\n",
    "import numpy as np\n",
    "\n",
    "vetor1 = [22,55,77]\n",
    "vetor2 = [5,4,8,9]\n",
    "\n",
    "somavetor1 = 0\n",
    "somavetor2 = 0\n",
    "\n",
    "for i in vetor1:\n",
    "    somavetor1 += i\n",
    "    \n",
    "print((f\"soma do vetor1: {somavetor1}\"))\n",
    "\n",
    "for c in vetor2:\n",
    "    somavetor2 += c\n",
    "print((f\"soma do vetor2: {somavetor2}\"))"
   ]
  },
  {
   "cell_type": "code",
   "execution_count": null,
   "id": "9d7144d6-c5c6-4252-902a-c659fd728f43",
   "metadata": {},
   "outputs": [],
   "source": []
  }
 ],
 "metadata": {
  "kernelspec": {
   "display_name": "Python 3 (ipykernel)",
   "language": "python",
   "name": "python3"
  },
  "language_info": {
   "codemirror_mode": {
    "name": "ipython",
    "version": 3
   },
   "file_extension": ".py",
   "mimetype": "text/x-python",
   "name": "python",
   "nbconvert_exporter": "python",
   "pygments_lexer": "ipython3",
   "version": "3.12.4"
  }
 },
 "nbformat": 4,
 "nbformat_minor": 5
}
